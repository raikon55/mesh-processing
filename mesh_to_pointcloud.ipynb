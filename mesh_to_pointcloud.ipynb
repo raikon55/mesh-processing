{
 "cells": [
  {
   "cell_type": "markdown",
   "metadata": {},
   "source": [
    "Tranformar os meshs em uma descrição de grafo, começando por listar os vértices, normal, informação de textura e luminosidade.\n",
    "Após isso, normalizar para um formato de arquivo já consolidade (npy)\n",
    "Listar os vizinhos de cada vértice"
   ]
  },
  {
   "cell_type": "code",
   "execution_count": null,
   "metadata": {},
   "outputs": [],
   "source": [
    "import re\n",
    "import numpy\n",
    "import torch\n",
    "import trimesh\n",
    "import networkx\n",
    "import matplotlib.pyplot as plot\n",
    "\n",
    "from skimage import color, graph\n",
    "from disf import DISF_Superpixels\n",
    "from skimage.segmentation import slic\n",
    "from torch_geometric.data import Data\n",
    "from torch_geometric.utils import to_networkx"
   ]
  },
  {
   "cell_type": "code",
   "execution_count": null,
   "metadata": {},
   "outputs": [],
   "source": [
    "def extract_attributes(line: str, attributes_pattern: re.Pattern) -> list:\n",
    "    line = line.replace(\"  \", \" \")\n",
    "\n",
    "    if attributes_pattern.match(line):\n",
    "        coord: list[str] = line.split(\" \")\n",
    "        if len(coord) < 4:\n",
    "            coord.append(0.0)\n",
    "        aList: list[float] = [float(coord[1]), float(coord[2]), float(coord[3])]\n",
    "        return aList"
   ]
  },
  {
   "cell_type": "code",
   "execution_count": null,
   "metadata": {},
   "outputs": [],
   "source": [
    "def extract_face(line: str, face_pattern: re.Pattern) -> list[list]:\n",
    "    line = line.replace(\"  \", \" \")\n",
    "    indexes_attributes: list[list] = []\n",
    "\n",
    "    if face_pattern.match(line):\n",
    "        faces: list[str] = line.split(\" \")\n",
    "        for face in faces:\n",
    "            indexes: list[str] = face.split(\"/\")\n",
    "            index_attribute: list[int] = []\n",
    "\n",
    "            for index in indexes:\n",
    "                try:\n",
    "                    i = int(index)-1\n",
    "                    index_attribute.append(i)\n",
    "                except:\n",
    "                    continue\n",
    "\n",
    "            indexes_attributes.append([index for index in index_attribute])\n",
    "\n",
    "    indexes_attributes.remove([])\n",
    "    return indexes_attributes"
   ]
  },
  {
   "cell_type": "code",
   "execution_count": null,
   "metadata": {},
   "outputs": [],
   "source": [
    "def to_graph(mesh_description_filename: str) -> Data:\n",
    "    list_normals: list[list] = []\n",
    "    list_vertices: list[list] = []\n",
    "    list_textures: list[list] = []\n",
    "    edges_index: list[list] = []\n",
    "    faces_description: dict[str, list[list]] = []\n",
    "\n",
    "    with open(file=mesh_description_filename, mode=\"r\") as file:\n",
    "        attributes_pattern: re.Pattern = re.compile(r'(v|vn|f|vt)(\\s+-?\\d+\\.\\d+){2,3}')\n",
    "        face_pattern: re.Pattern = re.compile(r'f(\\s+(\\d+\\/?){3}){3}')\n",
    "        for line in file.readlines():\n",
    "            aList: list = extract_attributes(line, attributes_pattern)\n",
    "\n",
    "            if line.startswith(\"vn\"):\n",
    "                list_normals.append(aList)\n",
    "            elif line.startswith(\"vt\"):\n",
    "                del aList[2]\n",
    "                list_textures.append(aList)\n",
    "            elif line.startswith(\"f\"):\n",
    "                faces = extract_face(line, face_pattern)\n",
    "                edges_index.append([faces[0][0], faces[1][0]]) # vertices\n",
    "                edges_index.append([faces[1][0], faces[2][0]])\n",
    "                faces_description.append([faces[0][1], faces[1][1]]) # vertices textures\n",
    "                faces_description.append([faces[1][1], faces[2][1]])\n",
    "            elif line.startswith(\"v \"):\n",
    "                list_vertices.append(aList)\n",
    "    normals = torch.tensor(list_normals, dtype=torch.long)\n",
    "    vertices = torch.tensor(list_vertices, dtype=torch.long)\n",
    "    textures = torch.tensor(list_textures, dtype=torch.float32)\n",
    "    edges = torch.tensor(edges_index, dtype=torch.long)\n",
    "    faces_attribtes = torch.tensor(faces_description, dtype=torch.long)\n",
    "\n",
    "    data: Data = Data(x=vertices, edge_index=edges.t().contiguous(), edge_attr=faces_attribtes, norm=normals, pos=textures)\n"
   ]
  },
  {
   "cell_type": "code",
   "execution_count": null,
   "metadata": {},
   "outputs": [],
   "source": [
    "\"\"\"\n",
    "Data(x=[21661, 3], pos=[27355, 2], pos=[27355, 2], norm=[21661, 3])\n",
    "x=[21661, 3]\n",
    "[número de vértices, coordenadas do vértice]\n",
    "\n",
    "edge_index=[2, 79998]\n",
    "[dimensão da face, número de faces]\n",
    "\n",
    "pos=[27355, 2]\n",
    "[quantidade de texturas, coordenadas do UV mapping]\n",
    "\n",
    "norm=[21661, 3]\n",
    "[número de normal das vértices, coordenadas das normais de vértice]\n",
    "\n",
    "\n",
    "(vertices, faces)\n",
    "\"\"\"\n",
    "\n",
    "data: Data = to_graph(\"data/0.obj\")"
   ]
  },
  {
   "cell_type": "code",
   "execution_count": null,
   "metadata": {},
   "outputs": [],
   "source": [
    "mesh = trimesh.load(file_obj=\"data/0.obj\", file_type=\"obj\", force=\"mesh\")\n",
    "vertices = torch.tensor(mesh.vertices, dtype=torch.float32)\n",
    "faces = torch.tensor(mesh.faces, dtype=torch.long).t().contiguous()"
   ]
  },
  {
   "cell_type": "code",
   "execution_count": null,
   "metadata": {},
   "outputs": [],
   "source": [
    "# data = Data(pos=vertices, face=faces)\n",
    "# positions = data.pos.numpy()\n",
    "# segments = slic(positions, n_segments=100, compactness=10, sigma=1, channel_axis=None)\n",
    "\n",
    "# rag_graph = networkx.Graph()\n",
    "# rag_graph.add_nodes_from(segments)\n",
    "# for face in faces.numpy():\n",
    "#     edge = (segments[face[0]], segments[face[1]])\n",
    "#     rag_graph.add_edge(*edge)\n",
    "\n",
    "\n",
    "# rag = networkx.rag_mean_color(color.rgb2gray(positions), segments)"
   ]
  },
  {
   "cell_type": "code",
   "execution_count": null,
   "metadata": {},
   "outputs": [],
   "source": [
    "positions = mesh.edges\n",
    "display(mesh)\n",
    "\n",
    "# segments = slic(positions, n_segments=100, compactness=10, sigma=1, channel_axis=None)\n",
    "# segments = DISF_Superpixels(positions.ravel(), 10_000, 100)\n",
    "\n",
    "# Create Region Adjacency Graph (RAG) from the segments\n",
    "# rag = graph.rag_mean_color(positions, segments, connectivity=10)"
   ]
  },
  {
   "cell_type": "code",
   "execution_count": null,
   "metadata": {},
   "outputs": [],
   "source": [
    "# display(nx_graph)\n",
    "# display(rag)\n",
    "g = rag.copy()"
   ]
  }
 ],
 "metadata": {
  "kernelspec": {
   "display_name": "env",
   "language": "python",
   "name": "python3"
  },
  "language_info": {
   "codemirror_mode": {
    "name": "ipython",
    "version": 3
   },
   "file_extension": ".py",
   "mimetype": "text/x-python",
   "name": "python",
   "nbconvert_exporter": "python",
   "pygments_lexer": "ipython3",
   "version": "3.11.7"
  }
 },
 "nbformat": 4,
 "nbformat_minor": 2
}
